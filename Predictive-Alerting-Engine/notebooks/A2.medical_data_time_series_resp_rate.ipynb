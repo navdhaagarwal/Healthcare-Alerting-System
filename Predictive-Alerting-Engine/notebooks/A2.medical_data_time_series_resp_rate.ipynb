{
 "cells": [
  {
   "cell_type": "code",
   "execution_count": 1,
   "id": "59c06038",
   "metadata": {},
   "outputs": [],
   "source": [
    "import numpy as np\n",
    "import pandas as pd\n",
    "import matplotlib.pyplot as plt\n",
    "import seaborn as sns\n",
    "from sklearn.metrics import median_absolute_error, mean_squared_error, mean_squared_log_error, mean_absolute_error\n",
    "\n",
    "from scipy.optimize import minimize\n",
    "import statsmodels.tsa.api as smt\n",
    "import statsmodels.api as sm\n",
    "\n",
    "from tqdm import tqdm\n",
    "import time\n",
    "from sklearn.metrics import accuracy_score\n",
    "\n",
    "from itertools import product\n",
    "\n",
    "import warnings\n",
    "warnings.filterwarnings('ignore')"
   ]
  },
  {
   "cell_type": "code",
   "execution_count": 2,
   "id": "3fed72b4",
   "metadata": {},
   "outputs": [],
   "source": [
    "%matplotlib inline"
   ]
  },
  {
   "cell_type": "code",
   "execution_count": null,
   "id": "55a403d0",
   "metadata": {},
   "outputs": [],
   "source": [
    "data = pd.read_csv('RespRate_interpolated_data.csv')\n",
    "data.head(10)"
   ]
  },
  {
   "cell_type": "code",
   "execution_count": 4,
   "id": "9839763d",
   "metadata": {},
   "outputs": [],
   "source": [
    "data.Timestamp = data.Timestamp * 100"
   ]
  },
  {
   "cell_type": "code",
   "execution_count": 5,
   "id": "4a2d4036",
   "metadata": {},
   "outputs": [],
   "source": [
    "data = data.set_index('Timestamp', drop=True)"
   ]
  },
  {
   "cell_type": "code",
   "execution_count": null,
   "id": "791126d7",
   "metadata": {},
   "outputs": [],
   "source": [
    "data.head(10)"
   ]
  },
  {
   "cell_type": "code",
   "execution_count": 7,
   "id": "b07ebef1",
   "metadata": {},
   "outputs": [],
   "source": [
    "p_ids = [138022, 141560, 142580]"
   ]
  },
  {
   "cell_type": "code",
   "execution_count": 8,
   "id": "0483eb9e",
   "metadata": {},
   "outputs": [],
   "source": [
    "patient_data = data[data.PatientID == 142580]"
   ]
  },
  {
   "cell_type": "code",
   "execution_count": 9,
   "id": "72765384",
   "metadata": {},
   "outputs": [],
   "source": [
    "patient_data_series =  patient_data.Value.reset_index(drop=True)"
   ]
  },
  {
   "cell_type": "code",
   "execution_count": null,
   "id": "7a33f157",
   "metadata": {},
   "outputs": [],
   "source": [
    "len(patient_data_series)"
   ]
  },
  {
   "cell_type": "code",
   "execution_count": 11,
   "id": "42e9c721",
   "metadata": {},
   "outputs": [],
   "source": [
    "test_data_series = patient_data_series[-100:]"
   ]
  },
  {
   "cell_type": "code",
   "execution_count": 12,
   "id": "fc3b0811",
   "metadata": {},
   "outputs": [],
   "source": [
    "patient_data_series = patient_data_series[:-100]"
   ]
  },
  {
   "cell_type": "code",
   "execution_count": null,
   "id": "75614fd1",
   "metadata": {},
   "outputs": [],
   "source": [
    "len(patient_data_series), len(test_data_series)"
   ]
  },
  {
   "cell_type": "code",
   "execution_count": null,
   "id": "cd977dd6",
   "metadata": {},
   "outputs": [],
   "source": [
    "plt.figure(figsize=(17, 8))\n",
    "plt.plot(patient_data_series)\n",
    "plt.title('Patient Heart Rate')\n",
    "plt.ylabel('Beats Per Minute (BPM)')\n",
    "plt.xlabel('Timestamp')\n",
    "plt.grid(False)\n",
    "plt.show()"
   ]
  },
  {
   "cell_type": "code",
   "execution_count": 15,
   "id": "62a7f49e",
   "metadata": {},
   "outputs": [],
   "source": [
    "def plot_moving_average(series, window, plot_intervals=False, scale=1.96):\n",
    "\n",
    "    rolling_mean = series.rolling(window=window).mean()\n",
    "    \n",
    "    plt.figure(figsize=(17,8))\n",
    "    plt.title('Moving average\\n window size = {}'.format(window))\n",
    "    plt.plot(rolling_mean, 'g', label='Rolling mean trend')\n",
    "    \n",
    "    #Plot confidence intervals for smoothed values\n",
    "    if plot_intervals:\n",
    "        mae = mean_absolute_error(series[window:], rolling_mean[window:])\n",
    "        deviation = np.std(series[window:] - rolling_mean[window:])\n",
    "        lower_bound = rolling_mean - (mae + scale * deviation)\n",
    "        upper_bound = rolling_mean + (mae + scale * deviation)\n",
    "        plt.plot(upper_bound, 'r--', label='Upper bound / Lower bound')\n",
    "        plt.plot(lower_bound, 'r--')\n",
    "            \n",
    "    plt.plot(series[window:], label='Actual values')\n",
    "    plt.legend(loc='best')\n",
    "    plt.grid(True)"
   ]
  },
  {
   "cell_type": "code",
   "execution_count": null,
   "id": "aa12ef78",
   "metadata": {},
   "outputs": [],
   "source": [
    "#Smooth by the previous 5 minutes\n",
    "plot_moving_average(patient_data_series, 50)"
   ]
  },
  {
   "cell_type": "code",
   "execution_count": 17,
   "id": "bc58064c",
   "metadata": {},
   "outputs": [],
   "source": [
    "def exponential_smoothing(series, alpha):\n",
    "\n",
    "    result = [series[0]] # first value is same as series\n",
    "    for n in range(1, len(series)):\n",
    "        result.append(alpha * series[n] + (1 - alpha) * result[n-1])\n",
    "    return result"
   ]
  },
  {
   "cell_type": "code",
   "execution_count": 18,
   "id": "547c9d17",
   "metadata": {},
   "outputs": [],
   "source": [
    "def plot_exponential_smoothing(series, alphas):\n",
    " \n",
    "    plt.figure(figsize=(17, 8))\n",
    "    for alpha in alphas:\n",
    "        plt.plot(exponential_smoothing(series, alpha), label=\"Alpha {}\".format(alpha))\n",
    "    plt.plot(series.values, \"c\", label = \"Actual\")\n",
    "    plt.legend(loc=\"best\")\n",
    "    plt.axis('tight')\n",
    "    plt.title(\"Exponential Smoothing\")\n",
    "    plt.grid(True);"
   ]
  },
  {
   "cell_type": "code",
   "execution_count": null,
   "id": "fb174f75",
   "metadata": {},
   "outputs": [],
   "source": [
    "plot_exponential_smoothing(patient_data_series, [0.05, 0.3])"
   ]
  },
  {
   "cell_type": "code",
   "execution_count": 20,
   "id": "6ba2a796",
   "metadata": {},
   "outputs": [],
   "source": [
    "def double_exponential_smoothing(series, alpha, beta):\n",
    "\n",
    "    result = [series[0]]\n",
    "    for n in range(1, len(series)+1):\n",
    "        if n == 1:\n",
    "            level, trend = series[0], series[1] - series[0]\n",
    "        if n >= len(series): # forecasting\n",
    "            value = result[-1]\n",
    "        else:\n",
    "            value = series[n]\n",
    "        last_level, level = level, alpha * value + (1 - alpha) * (level + trend)\n",
    "        trend = beta * (level - last_level) + (1 - beta) * trend\n",
    "        result.append(level + trend)\n",
    "    return result"
   ]
  },
  {
   "cell_type": "code",
   "execution_count": 21,
   "id": "89ca63eb",
   "metadata": {},
   "outputs": [],
   "source": [
    "def plot_double_exponential_smoothing(series, alphas, betas):\n",
    "     \n",
    "    plt.figure(figsize=(17, 8))\n",
    "    for alpha in alphas:\n",
    "        for beta in betas:\n",
    "            plt.plot(double_exponential_smoothing(series, alpha, beta), label=\"Alpha {}, beta {}\".format(alpha, beta))\n",
    "    plt.plot(series.values, label = \"Actual\")\n",
    "    plt.legend(loc=\"best\")\n",
    "    plt.axis('tight')\n",
    "    plt.title(\"Double Exponential Smoothing\")\n",
    "    plt.grid(True)"
   ]
  },
  {
   "cell_type": "code",
   "execution_count": null,
   "id": "6ac77adc",
   "metadata": {},
   "outputs": [],
   "source": [
    "plot_double_exponential_smoothing(patient_data_series, alphas=[0.9, 0.3], betas=[0.9, 0.3])"
   ]
  },
  {
   "cell_type": "code",
   "execution_count": 23,
   "id": "98fe52d4",
   "metadata": {},
   "outputs": [],
   "source": [
    "def tsplot(y, lags=None, figsize=(12, 7), syle='bmh'):\n",
    "    \n",
    "    if not isinstance(y, pd.Series):\n",
    "        y = pd.Series(y)\n",
    "        \n",
    "    with plt.style.context(style='bmh'):\n",
    "        fig = plt.figure(figsize=figsize)\n",
    "        layout = (2,2)\n",
    "        ts_ax = plt.subplot2grid(layout, (0,0), colspan=2)\n",
    "        acf_ax = plt.subplot2grid(layout, (1,0))\n",
    "        pacf_ax = plt.subplot2grid(layout, (1,1))\n",
    "        \n",
    "        y.plot(ax=ts_ax)\n",
    "        p_value = sm.tsa.stattools.adfuller(y)[1]\n",
    "        ts_ax.set_title('Time Series Analysis Plots\\n Dickey-Fuller: p={0:.5f}'.format(p_value))\n",
    "        smt.graphics.plot_acf(y, lags=lags, ax=acf_ax)\n",
    "        smt.graphics.plot_pacf(y, lags=lags, ax=pacf_ax)\n",
    "        plt.tight_layout()"
   ]
  },
  {
   "cell_type": "code",
   "execution_count": null,
   "id": "8ec63b69",
   "metadata": {},
   "outputs": [],
   "source": [
    "tsplot(patient_data_series, lags=50)"
   ]
  },
  {
   "cell_type": "code",
   "execution_count": null,
   "id": "19fcc487",
   "metadata": {},
   "outputs": [],
   "source": [
    "# Take the first difference to remove to make the process stationary\n",
    "data_diff = patient_data_series - patient_data_series.shift(1)\n",
    "\n",
    "tsplot(data_diff[1:], lags=50)"
   ]
  },
  {
   "cell_type": "markdown",
   "id": "342d76df",
   "metadata": {},
   "source": [
    "# ARIMA"
   ]
  },
  {
   "cell_type": "code",
   "execution_count": 26,
   "id": "3fd2d8df",
   "metadata": {},
   "outputs": [],
   "source": [
    "#Set initial values and some bounds\n",
    "ps = range(0, 5)\n",
    "d = 1\n",
    "qs = range(0, 5)\n",
    "Ps = range(0, 5)\n",
    "D = 1\n",
    "Qs = range(0, 5)\n",
    "s = 5"
   ]
  },
  {
   "cell_type": "code",
   "execution_count": null,
   "id": "b8b8a2e7",
   "metadata": {},
   "outputs": [],
   "source": [
    "#Create a list with all possible combinations of parameters\n",
    "parameters = product(ps, qs, Ps, Qs)\n",
    "parameters_list = list(parameters)\n",
    "len(parameters_list)"
   ]
  },
  {
   "cell_type": "code",
   "execution_count": 28,
   "id": "7118cee2",
   "metadata": {},
   "outputs": [],
   "source": [
    "model = sm.tsa.statespace.SARIMAX(patient_data_series, order=(0, d, 0),\n",
    "                                               seasonal_order=(2, D, 4, s)).fit(disp=-1)"
   ]
  },
  {
   "cell_type": "code",
   "execution_count": 29,
   "id": "71b3b14a",
   "metadata": {},
   "outputs": [
    {
     "data": {
      "text/plain": [
       "-1239.2953240616391"
      ]
     },
     "execution_count": 29,
     "metadata": {},
     "output_type": "execute_result"
    }
   ],
   "source": [
    "model.aic"
   ]
  },
  {
   "cell_type": "code",
   "execution_count": 30,
   "id": "237144a2",
   "metadata": {},
   "outputs": [],
   "source": [
    "start_time = time.perf_counter()\n",
    "forecast = model.forecast(100)\n",
    "end_time = time.perf_counter()"
   ]
  },
  {
   "cell_type": "code",
   "execution_count": null,
   "metadata": {},
   "outputs": [],
   "source": [
    "time_taken = end_time - start_time\n",
    "time_taken"
   ]
  },
  {
   "cell_type": "code",
   "execution_count": null,
   "id": "967f02a2",
   "metadata": {},
   "outputs": [],
   "source": [
    "pd.DataFrame({\"Predicted\": forecast, \"True\": test_data_series})"
   ]
  },
  {
   "cell_type": "code",
   "execution_count": null,
   "metadata": {},
   "outputs": [],
   "source": [
    "accuracy = accuracy_score(test_data_series, forecast)\n",
    "accuracy"
   ]
  },
  {
   "cell_type": "code",
   "execution_count": 32,
   "id": "9e345cb6",
   "metadata": {},
   "outputs": [],
   "source": [
    "final_df = pd.DataFrame({'PatientID': 138022, 'RespRate': pd.concat([patient_data_series, forecast])})"
   ]
  },
  {
   "cell_type": "code",
   "execution_count": 33,
   "id": "32b02ea2",
   "metadata": {},
   "outputs": [],
   "source": [
    "final_df = final_df.reset_index()"
   ]
  },
  {
   "cell_type": "code",
   "execution_count": 34,
   "id": "01027213",
   "metadata": {},
   "outputs": [],
   "source": [
    "final_df = final_df.rename(columns = {'index': 'Timestamp'})"
   ]
  },
  {
   "cell_type": "code",
   "execution_count": null,
   "id": "704e94c7",
   "metadata": {},
   "outputs": [],
   "source": [
    "final_df"
   ]
  },
  {
   "cell_type": "code",
   "execution_count": 36,
   "id": "7cda026a",
   "metadata": {},
   "outputs": [],
   "source": [
    "hr_df = pd.read_csv('HR_142580.csv')"
   ]
  },
  {
   "cell_type": "code",
   "execution_count": null,
   "id": "8dc500e7",
   "metadata": {},
   "outputs": [],
   "source": [
    "hr_df"
   ]
  },
  {
   "cell_type": "code",
   "execution_count": 38,
   "id": "1aac5b66",
   "metadata": {},
   "outputs": [],
   "source": [
    "final_df = final_df.merge(hr_df, on=['Timestamp', 'PatientID'])"
   ]
  },
  {
   "cell_type": "code",
   "execution_count": null,
   "id": "44947161",
   "metadata": {},
   "outputs": [],
   "source": [
    "final_df"
   ]
  },
  {
   "cell_type": "code",
   "execution_count": 41,
   "id": "cdc93059",
   "metadata": {},
   "outputs": [
    {
     "name": "stdout",
     "output_type": "stream",
     "text": [
      "MAE = 1.0770122703178007\n"
     ]
    }
   ],
   "source": [
    "error = mean_absolute_error(test_data_series, forecast)\n",
    "print(f'MAE = {error}')"
   ]
  },
  {
   "cell_type": "code",
   "execution_count": null,
   "id": "5f09d01f",
   "metadata": {},
   "outputs": [],
   "source": [
    "plt.figure(figsize=(6, 4))\n",
    "plt.plot(pd.concat([patient_data_series, test_data_series]), label='True Value')\n",
    "plt.plot(forecast, label='Predicted Value')\n",
    "plt.title('Patient (142580) Respiratory Rate')\n",
    "plt.ylabel('Respiratory Rate')\n",
    "plt.xlabel('Timestamp')\n",
    "plt.grid(False)\n",
    "plt.legend()\n",
    "plt.show()"
   ]
  },
  {
   "cell_type": "code",
   "execution_count": null,
   "id": "35bf2066",
   "metadata": {},
   "outputs": [],
   "source": [
    "plt.figure(figsize=(6, 4))\n",
    "plt.plot(pd.concat([patient_data_series, test_data_series])[-100:], label='True Value')\n",
    "plt.plot(forecast[-100:], label='Predicted Value')\n",
    "plt.title('Patient (142580) Respiratory Rate')\n",
    "plt.ylabel('Respiratory Rate')\n",
    "plt.xlabel('Timestamp')\n",
    "plt.grid(False)\n",
    "plt.legend()\n",
    "plt.show()"
   ]
  },
  {
   "cell_type": "code",
   "execution_count": null,
   "id": "12227cbf",
   "metadata": {},
   "outputs": [],
   "source": [
    "highlight_predictions = [pred if pred > 20 or pred < 12 else None for pred in forecast]\n",
    "\n",
    "timesteps = np.arange(2801, 2901)\n",
    "\n",
    "plt.plot(timesteps, forecast, label='Predictions', marker='o', linestyle='-', color='orange')\n",
    "plt.plot(timesteps, highlight_predictions, label='Predictions exceeding threshold', marker='o', color='red')\n",
    "\n",
    "plt.title('Respiratory Rate Prediction for 100 Timesteps')\n",
    "plt.xlabel('Timestep')\n",
    "plt.ylabel('Respiratory Rate')\n",
    "plt.legend()\n",
    "plt.show()"
   ]
  }
 ],
 "metadata": {
  "kernelspec": {
   "display_name": "env",
   "language": "python",
   "name": "env"
  },
  "language_info": {
   "codemirror_mode": {
    "name": "ipython",
    "version": 3
   },
   "file_extension": ".py",
   "mimetype": "text/x-python",
   "name": "python",
   "nbconvert_exporter": "python",
   "pygments_lexer": "ipython3",
   "version": "3.10.5"
  }
 },
 "nbformat": 4,
 "nbformat_minor": 5
}
